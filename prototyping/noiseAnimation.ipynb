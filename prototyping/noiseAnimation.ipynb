{
 "cells": [
  {
   "cell_type": "code",
   "execution_count": 1,
   "metadata": {},
   "outputs": [],
   "source": [
    "import numpy as np\n",
    "import opensimplex\n",
    "import random\n",
    "import math\n",
    "import time\n",
    "import matplotlib.pyplot as plt\n",
    "import plotly.graph_objects as go"
   ]
  },
  {
   "cell_type": "code",
   "execution_count": null,
   "metadata": {},
   "outputs": [],
   "source": [
    "xSize = 10\n",
    "ySize = 10\n",
    "spacing = 0.2\n",
    "step = 0.2\n",
    "\n",
    "x = np.arange(0, xSize, spacing)\n",
    "y = np.arange(0, ySize, spacing)\n",
    "\n",
    "xy = np.meshgrid(x, y)\n",
    "\n",
    "opensimplex.seed(1)\n",
    "z = opensimplex.noise2array(x, y)\n",
    "\n",
    "plt.imshow(z, cmap='hot', interpolation='nearest')\n",
    "plt.show()"
   ]
  },
  {
   "cell_type": "code",
   "execution_count": null,
   "metadata": {},
   "outputs": [],
   "source": [
    "import numpy as np\n",
    "\n",
    "Z = []\n",
    "\n",
    "for i in range(50):\n",
    "    print(i)\n",
    "    x = np.arange(0, xSize, spacing)\n",
    "    y = np.arange(0, ySize, spacing)+step*i\n",
    "    z = opensimplex.noise2array(x, y)\n",
    "    Z.append(z)\n",
    "\n",
    "\n",
    "\n",
    "fig = go.Figure()\n",
    "\n",
    "# Add the first frame's heatmap (initial frame)\n",
    "fig.add_trace(go.Heatmap(z=Z[0], colorscale='hot'))\n",
    "\n",
    "# Create frames for the animation\n",
    "frames = [go.Frame(data=[go.Heatmap(z=Z[i], colorscale='hot')], name=f'frame{i+1}') for i in range(len(Z))]\n",
    "\n",
    "# Update layout with sliders and animation settings\n",
    "fig.update_layout(\n",
    "    title='Z Imshows',\n",
    "    sliders=[{\n",
    "        'active': 0,\n",
    "        'yanchor': 'top',\n",
    "        'xanchor': 'left',\n",
    "        'currentvalue': {\n",
    "            'font': {'size': 20},\n",
    "            'prefix': 'Frame:',\n",
    "            'visible': True,\n",
    "            'xanchor': 'right'\n",
    "        },\n",
    "        'transition': {'duration': 500, 'easing': 'linear'},\n",
    "        'pad': {'b': 10, 't': 50},\n",
    "        'len': 0.9,\n",
    "        'x': 0.1,\n",
    "        'y': 0,\n",
    "        'steps': [\n",
    "            {\n",
    "                'args': [[f'frame{i+1}'], {'frame': {'duration': 500, 'redraw': True}, 'mode': 'immediate', 'transition': {'duration': 0}}],\n",
    "                'label': i+1,\n",
    "                'method': 'animate'\n",
    "            }\n",
    "            for i in range(len(Z))\n",
    "        ]\n",
    "    }],\n",
    "    updatemenus=[{\n",
    "        'type': 'buttons',\n",
    "        'showactive': False,\n",
    "        'buttons': [{\n",
    "            'label': 'Play',\n",
    "            'method': 'animate',\n",
    "            'args': [None, {'frame': {'duration': 500, 'redraw': True}, 'fromcurrent': True, 'mode': 'immediate'}]\n",
    "        }, {\n",
    "            'label': 'Pause',\n",
    "            'method': 'animate',\n",
    "            'args': [[None], {'frame': {'duration': 0, 'redraw': False}, 'mode': 'immediate'}]\n",
    "        }]\n",
    "    }]\n",
    ")\n",
    "\n",
    "# Add frames to the figure\n",
    "fig.frames = frames\n",
    "\n",
    "# Ensure axes scaling remains consistent\n",
    "fig.update_xaxes(scaleanchor=\"y\", scaleratio=1)\n",
    "fig.update_yaxes(scaleanchor=\"x\", scaleratio=1)\n",
    "\n",
    "# Show figure\n",
    "fig.show()"
   ]
  },
  {
   "cell_type": "code",
   "execution_count": null,
   "metadata": {},
   "outputs": [],
   "source": [
    "for _ in range(50):\n",
    "    y = np.arange(0, ySize, spacing)"
   ]
  },
  {
   "cell_type": "markdown",
   "metadata": {},
   "source": [
    "1. Create a flat array to store x, y, z values Float32Array(vertex number * 3)\n",
    "2. "
   ]
  }
 ],
 "metadata": {
  "kernelspec": {
   "display_name": "Python 3",
   "language": "python",
   "name": "python3"
  },
  "language_info": {
   "codemirror_mode": {
    "name": "ipython",
    "version": 3
   },
   "file_extension": ".py",
   "mimetype": "text/x-python",
   "name": "python",
   "nbconvert_exporter": "python",
   "pygments_lexer": "ipython3",
   "version": "3.10.6"
  }
 },
 "nbformat": 4,
 "nbformat_minor": 2
}
